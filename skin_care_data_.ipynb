{
 "cells": [
  {
   "cell_type": "code",
   "execution_count": 4,
   "id": "12beb53d-aaf6-4faa-84fa-81c0aa0cc415",
   "metadata": {
    "tags": []
   },
   "outputs": [
    {
     "name": "stdout",
     "output_type": "stream",
     "text": [
      "Skin_Type\n",
      "Combination    92783\n",
      "Oily            3568\n",
      "Normal          3069\n",
      "Dry              580\n",
      "Name: count, dtype: int64\n"
     ]
    }
   ],
   "source": [
    "import pandas as pd\n",
    "import numpy as np\n",
    "\n",
    "\n",
    "np.random.seed(42)\n",
    "n_samples = 100000\n",
    "\n",
    "\n",
    "\n",
    "ages = np.random.randint(18, 60, size=n_samples)\n",
    "genders = np.random.choice(['Female', 'Male'], size=n_samples)\n",
    "hydration_levels = np.random.choice(['Low', 'Medium', 'High'], size=n_samples)\n",
    "oil_levels = np.random.choice(['Low', 'Medium', 'High'], size=n_samples)\n",
    "sensitivity_levels = np.random.choice(['Low', 'Medium', 'High'], size=n_samples)\n",
    "humidity_levels = np.random.uniform(20, 80, size=n_samples).round(1)\n",
    "temperature_levels = np.random.uniform(10, 35, size=n_samples).round(1)\n",
    "\n",
    "\n",
    "data = {\n",
    "    'Age': ages,\n",
    "    'Gender': genders,\n",
    "    'Hydration_Level': hydration_levels,\n",
    "    'Oil_Level': oil_levels,\n",
    "    'Sensitivity': sensitivity_levels,\n",
    "    'Humidity': humidity_levels,\n",
    "    'Temperature': temperature_levels\n",
    "}\n",
    "\n",
    "df = pd.DataFrame(data)\n",
    "\n",
    "\n",
    "def determine_skin_type_refined(row):\n",
    "    if row['Hydration_Level'] in ['Medium', 'High'] and \\\n",
    "       row['Oil_Level'] == 'Medium' and \\\n",
    "       row['Sensitivity'] in ['Low', 'Medium'] and \\\n",
    "       35 <= row['Humidity'] <= 65 and \\\n",
    "       15 <= row['Temperature'] <= 25:\n",
    "        return 'Normal'\n",
    "    \n",
    "    if row['Hydration_Level'] == 'Low' and \\\n",
    "       row['Oil_Level'] == 'Low' and \\\n",
    "       row['Sensitivity'] == 'High' and \\\n",
    "       20 <= row['Humidity'] <= 45 and \\\n",
    "       10 <= row['Temperature'] <= 20:\n",
    "        return 'Dry'\n",
    "    \n",
    "    if row['Hydration_Level'] in ['Low', 'Medium'] and \\\n",
    "       row['Oil_Level'] == 'High' and \\\n",
    "       row['Sensitivity'] in ['Low', 'Medium'] and \\\n",
    "       45 <= row['Humidity'] <= 80 and \\\n",
    "       20 <= row['Temperature'] <= 30:\n",
    "        return 'Oily'\n",
    "    \n",
    "    return 'Combination'\n",
    "\n",
    "\n",
    "df['Skin_Type'] = df.apply(determine_skin_type_refined, axis=1)\n",
    "\n",
    "\n",
    "skin_type_counts = df['Skin_Type'].value_counts()\n",
    "print(skin_type_counts)"
   ]
  },
  {
   "cell_type": "code",
   "execution_count": 5,
   "id": "e8265699-068c-4e91-9eeb-22a256fe079f",
   "metadata": {
    "tags": []
   },
   "outputs": [],
   "source": [
    "Combination = df[df[\"Skin_Type\"]==\"Combination\"]\n",
    "Oily = df[df[\"Skin_Type\"]==\"Oily\"]\n",
    "Normal = df[df[\"Skin_Type\"]==\"Normal\"]\n",
    "Dry = df[df[\"Skin_Type\"]==\"Dry\"]"
   ]
  },
  {
   "cell_type": "code",
   "execution_count": 8,
   "id": "d7467a39-feae-4aec-b0ab-665b9d1b0b08",
   "metadata": {
    "tags": []
   },
   "outputs": [],
   "source": [
    "Combination = Combination.head(500)\n",
    "Oily = Oily.head(500)\n",
    "Normal = Normal.head(500)\n",
    "Dry = Dry.head(500)"
   ]
  },
  {
   "cell_type": "code",
   "execution_count": 10,
   "id": "80c42743-f5e2-4a84-bee0-2c6b9ba51419",
   "metadata": {
    "tags": []
   },
   "outputs": [],
   "source": [
    "df = pd.concat([Combination,Oily,Normal,Dry],axis=0,ignore_index=True)"
   ]
  },
  {
   "cell_type": "code",
   "execution_count": 12,
   "id": "99b35a56-e6e7-470b-8e53-b8da7ace2d63",
   "metadata": {
    "tags": []
   },
   "outputs": [
    {
     "data": {
      "text/plain": [
       "<bound method NDFrame.describe of       Age  Gender Hydration_Level Oil_Level Sensitivity  Humidity  \\\n",
       "0      56  Female          Medium      High      Medium      76.3   \n",
       "1      46    Male          Medium      High        High      41.7   \n",
       "2      32  Female          Medium      High        High      50.0   \n",
       "3      25  Female          Medium    Medium        High      53.4   \n",
       "4      38    Male            High       Low         Low      72.4   \n",
       "...   ...     ...             ...       ...         ...       ...   \n",
       "1995   32  Female             Low       Low        High      44.8   \n",
       "1996   19  Female             Low       Low        High      29.4   \n",
       "1997   38  Female             Low       Low        High      36.9   \n",
       "1998   46    Male             Low       Low        High      40.4   \n",
       "1999   38  Female             Low       Low        High      34.3   \n",
       "\n",
       "      Temperature    Skin_Type  \n",
       "0            32.5  Combination  \n",
       "1            27.8  Combination  \n",
       "2            23.9  Combination  \n",
       "3            34.9  Combination  \n",
       "4            27.4  Combination  \n",
       "...           ...          ...  \n",
       "1995         10.4          Dry  \n",
       "1996         11.2          Dry  \n",
       "1997         16.7          Dry  \n",
       "1998         16.9          Dry  \n",
       "1999         14.0          Dry  \n",
       "\n",
       "[2000 rows x 8 columns]>"
      ]
     },
     "execution_count": 12,
     "metadata": {},
     "output_type": "execute_result"
    }
   ],
   "source": [
    "df.describe"
   ]
  },
  {
   "cell_type": "code",
   "execution_count": 14,
   "id": "fce39fb3-0137-445c-8254-f64bdebb6363",
   "metadata": {
    "tags": []
   },
   "outputs": [],
   "source": [
    "df = df.sample(frac=1,random_state=42)"
   ]
  },
  {
   "cell_type": "code",
   "execution_count": 16,
   "id": "2d851eb9-cc2a-414e-a479-fe540cb63d46",
   "metadata": {
    "tags": []
   },
   "outputs": [
    {
     "data": {
      "text/html": [
       "<div>\n",
       "<style scoped>\n",
       "    .dataframe tbody tr th:only-of-type {\n",
       "        vertical-align: middle;\n",
       "    }\n",
       "\n",
       "    .dataframe tbody tr th {\n",
       "        vertical-align: top;\n",
       "    }\n",
       "\n",
       "    .dataframe thead th {\n",
       "        text-align: right;\n",
       "    }\n",
       "</style>\n",
       "<table border=\"1\" class=\"dataframe\">\n",
       "  <thead>\n",
       "    <tr style=\"text-align: right;\">\n",
       "      <th></th>\n",
       "      <th>Age</th>\n",
       "      <th>Gender</th>\n",
       "      <th>Hydration_Level</th>\n",
       "      <th>Oil_Level</th>\n",
       "      <th>Sensitivity</th>\n",
       "      <th>Humidity</th>\n",
       "      <th>Temperature</th>\n",
       "      <th>Skin_Type</th>\n",
       "    </tr>\n",
       "  </thead>\n",
       "  <tbody>\n",
       "    <tr>\n",
       "      <th>1860</th>\n",
       "      <td>36</td>\n",
       "      <td>Male</td>\n",
       "      <td>Low</td>\n",
       "      <td>Low</td>\n",
       "      <td>High</td>\n",
       "      <td>31.9</td>\n",
       "      <td>10.1</td>\n",
       "      <td>Dry</td>\n",
       "    </tr>\n",
       "    <tr>\n",
       "      <th>353</th>\n",
       "      <td>36</td>\n",
       "      <td>Female</td>\n",
       "      <td>High</td>\n",
       "      <td>Low</td>\n",
       "      <td>High</td>\n",
       "      <td>30.1</td>\n",
       "      <td>20.5</td>\n",
       "      <td>Combination</td>\n",
       "    </tr>\n",
       "    <tr>\n",
       "      <th>1333</th>\n",
       "      <td>34</td>\n",
       "      <td>Female</td>\n",
       "      <td>High</td>\n",
       "      <td>Medium</td>\n",
       "      <td>Low</td>\n",
       "      <td>53.0</td>\n",
       "      <td>19.5</td>\n",
       "      <td>Normal</td>\n",
       "    </tr>\n",
       "    <tr>\n",
       "      <th>905</th>\n",
       "      <td>51</td>\n",
       "      <td>Male</td>\n",
       "      <td>Medium</td>\n",
       "      <td>High</td>\n",
       "      <td>Low</td>\n",
       "      <td>57.3</td>\n",
       "      <td>22.7</td>\n",
       "      <td>Oily</td>\n",
       "    </tr>\n",
       "    <tr>\n",
       "      <th>1289</th>\n",
       "      <td>36</td>\n",
       "      <td>Male</td>\n",
       "      <td>High</td>\n",
       "      <td>Medium</td>\n",
       "      <td>Medium</td>\n",
       "      <td>64.4</td>\n",
       "      <td>24.0</td>\n",
       "      <td>Normal</td>\n",
       "    </tr>\n",
       "    <tr>\n",
       "      <th>...</th>\n",
       "      <td>...</td>\n",
       "      <td>...</td>\n",
       "      <td>...</td>\n",
       "      <td>...</td>\n",
       "      <td>...</td>\n",
       "      <td>...</td>\n",
       "      <td>...</td>\n",
       "      <td>...</td>\n",
       "    </tr>\n",
       "    <tr>\n",
       "      <th>1130</th>\n",
       "      <td>27</td>\n",
       "      <td>Male</td>\n",
       "      <td>Medium</td>\n",
       "      <td>Medium</td>\n",
       "      <td>Medium</td>\n",
       "      <td>63.4</td>\n",
       "      <td>17.3</td>\n",
       "      <td>Normal</td>\n",
       "    </tr>\n",
       "    <tr>\n",
       "      <th>1294</th>\n",
       "      <td>59</td>\n",
       "      <td>Male</td>\n",
       "      <td>Medium</td>\n",
       "      <td>Medium</td>\n",
       "      <td>Low</td>\n",
       "      <td>55.9</td>\n",
       "      <td>16.0</td>\n",
       "      <td>Normal</td>\n",
       "    </tr>\n",
       "    <tr>\n",
       "      <th>860</th>\n",
       "      <td>35</td>\n",
       "      <td>Female</td>\n",
       "      <td>Medium</td>\n",
       "      <td>High</td>\n",
       "      <td>Low</td>\n",
       "      <td>49.6</td>\n",
       "      <td>26.8</td>\n",
       "      <td>Oily</td>\n",
       "    </tr>\n",
       "    <tr>\n",
       "      <th>1459</th>\n",
       "      <td>36</td>\n",
       "      <td>Male</td>\n",
       "      <td>Medium</td>\n",
       "      <td>Medium</td>\n",
       "      <td>Medium</td>\n",
       "      <td>51.0</td>\n",
       "      <td>23.5</td>\n",
       "      <td>Normal</td>\n",
       "    </tr>\n",
       "    <tr>\n",
       "      <th>1126</th>\n",
       "      <td>27</td>\n",
       "      <td>Male</td>\n",
       "      <td>High</td>\n",
       "      <td>Medium</td>\n",
       "      <td>Low</td>\n",
       "      <td>43.8</td>\n",
       "      <td>19.5</td>\n",
       "      <td>Normal</td>\n",
       "    </tr>\n",
       "  </tbody>\n",
       "</table>\n",
       "<p>2000 rows × 8 columns</p>\n",
       "</div>"
      ],
      "text/plain": [
       "      Age  Gender Hydration_Level Oil_Level Sensitivity  Humidity  \\\n",
       "1860   36    Male             Low       Low        High      31.9   \n",
       "353    36  Female            High       Low        High      30.1   \n",
       "1333   34  Female            High    Medium         Low      53.0   \n",
       "905    51    Male          Medium      High         Low      57.3   \n",
       "1289   36    Male            High    Medium      Medium      64.4   \n",
       "...   ...     ...             ...       ...         ...       ...   \n",
       "1130   27    Male          Medium    Medium      Medium      63.4   \n",
       "1294   59    Male          Medium    Medium         Low      55.9   \n",
       "860    35  Female          Medium      High         Low      49.6   \n",
       "1459   36    Male          Medium    Medium      Medium      51.0   \n",
       "1126   27    Male            High    Medium         Low      43.8   \n",
       "\n",
       "      Temperature    Skin_Type  \n",
       "1860         10.1          Dry  \n",
       "353          20.5  Combination  \n",
       "1333         19.5       Normal  \n",
       "905          22.7         Oily  \n",
       "1289         24.0       Normal  \n",
       "...           ...          ...  \n",
       "1130         17.3       Normal  \n",
       "1294         16.0       Normal  \n",
       "860          26.8         Oily  \n",
       "1459         23.5       Normal  \n",
       "1126         19.5       Normal  \n",
       "\n",
       "[2000 rows x 8 columns]"
      ]
     },
     "execution_count": 16,
     "metadata": {},
     "output_type": "execute_result"
    }
   ],
   "source": [
    "df"
   ]
  },
  {
   "cell_type": "code",
   "execution_count": 18,
   "id": "9331b5c6-369b-477b-b690-3b3d6a7fd016",
   "metadata": {},
   "outputs": [],
   "source": [
    "df.to_csv(\"skin_type_final.csv\", index=False)"
   ]
  },
  {
   "cell_type": "code",
   "execution_count": 20,
   "id": "9a6704bb-e271-451f-9311-a13567237d8f",
   "metadata": {},
   "outputs": [
    {
     "name": "stdout",
     "output_type": "stream",
     "text": [
      "Confusion Matrix:\n",
      "[[193   0  10   1]\n",
      " [  0 205   0   0]\n",
      " [  0   0 193   0]\n",
      " [  0   0   0 198]]\n",
      "\n",
      "Classification Report:\n",
      "              precision    recall  f1-score   support\n",
      "\n",
      "           0       1.00      0.95      0.97       204\n",
      "           1       1.00      1.00      1.00       205\n",
      "           2       0.95      1.00      0.97       193\n",
      "           3       0.99      1.00      1.00       198\n",
      "\n",
      "    accuracy                           0.99       800\n",
      "   macro avg       0.99      0.99      0.99       800\n",
      "weighted avg       0.99      0.99      0.99       800\n",
      "\n",
      "Accuracy Score: 0.98625\n"
     ]
    }
   ],
   "source": [
    "from sklearn.model_selection import train_test_split\n",
    "from sklearn.ensemble import RandomForestClassifier\n",
    "from sklearn.metrics import classification_report, confusion_matrix, accuracy_score\n",
    "from sklearn.preprocessing import LabelEncoder\n",
    "\n",
    "label_encoder = LabelEncoder()\n",
    "df['Gender'] = label_encoder.fit_transform(df['Gender'])\n",
    "df['Hydration_Level'] = label_encoder.fit_transform(df['Hydration_Level'])\n",
    "df['Oil_Level'] = label_encoder.fit_transform(df['Oil_Level'])\n",
    "df['Sensitivity'] = label_encoder.fit_transform(df['Sensitivity'])\n",
    "df['Skin_Type'] = label_encoder.fit_transform(df['Skin_Type'])\n",
    "\n",
    "\n",
    "X = df.drop('Skin_Type', axis=1)\n",
    "y = df['Skin_Type']\n",
    "X_train, X_test, y_train, y_test = train_test_split(X, y, test_size=0.4, random_state=12)\n",
    "\n",
    "\n",
    "rf_classifier = RandomForestClassifier(n_estimators=50, random_state=42)\n",
    "rf_classifier.fit(X_train, y_train)\n",
    "\n",
    "y_pred = rf_classifier.predict(X_test)\n",
    "\n",
    "\n",
    "print(\"Confusion Matrix:\")\n",
    "print(confusion_matrix(y_test, y_pred))\n",
    "print(\"\\nClassification Report:\")\n",
    "print(classification_report(y_test, y_pred))\n",
    "print(\"Accuracy Score:\", accuracy_score(y_test, y_pred))"
   ]
  },
  {
   "cell_type": "code",
   "execution_count": 21,
   "id": "0f453c93-dbb0-4ce9-ab30-857dba28f635",
   "metadata": {},
   "outputs": [
    {
     "ename": "ModuleNotFoundError",
     "evalue": "No module named 'xgboost'",
     "output_type": "error",
     "traceback": [
      "\u001b[1;31m---------------------------------------------------------------------------\u001b[0m",
      "\u001b[1;31mModuleNotFoundError\u001b[0m                       Traceback (most recent call last)",
      "Cell \u001b[1;32mIn[21], line 1\u001b[0m\n\u001b[1;32m----> 1\u001b[0m \u001b[38;5;28;01mfrom\u001b[39;00m \u001b[38;5;21;01mxgboost\u001b[39;00m \u001b[38;5;28;01mimport\u001b[39;00m XGBClassifier\n\u001b[0;32m      3\u001b[0m model \u001b[38;5;241m=\u001b[39m XGBClassifier()\n\u001b[0;32m      5\u001b[0m model\u001b[38;5;241m.\u001b[39mfit(X_train, y_train)\n",
      "\u001b[1;31mModuleNotFoundError\u001b[0m: No module named 'xgboost'"
     ]
    }
   ],
   "source": [
    "from xgboost import XGBClassifier\n",
    "\n",
    "model = XGBClassifier()\n",
    "\n",
    "model.fit(X_train, y_train)\n",
    "\n",
    "y_pred = model.predict(X_test)\n",
    "\n",
    "accuracy = accuracy_score(y_test, y_pred)\n",
    "print(\"Accuracy:\", accuracy)"
   ]
  },
  {
   "cell_type": "code",
   "execution_count": null,
   "id": "7837e23d-3297-4b6b-b129-8c3417ebc842",
   "metadata": {},
   "outputs": [],
   "source": [
    "\n"
   ]
  }
 ],
 "metadata": {
  "kernelspec": {
   "display_name": "Python 3 (ipykernel)",
   "language": "python",
   "name": "python3"
  },
  "language_info": {
   "codemirror_mode": {
    "name": "ipython",
    "version": 3
   },
   "file_extension": ".py",
   "mimetype": "text/x-python",
   "name": "python",
   "nbconvert_exporter": "python",
   "pygments_lexer": "ipython3",
   "version": "3.12.4"
  }
 },
 "nbformat": 4,
 "nbformat_minor": 5
}
